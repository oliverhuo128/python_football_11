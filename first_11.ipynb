{
 "cells": [
  {
   "cell_type": "code",
   "execution_count": 2,
   "metadata": {},
   "outputs": [],
   "source": [
    "import requests\n",
    "from bs4 import BeautifulSoup"
   ]
  },
  {
   "cell_type": "code",
   "execution_count": 5,
   "metadata": {},
   "outputs": [
    {
     "name": "stdout",
     "output_type": "stream",
     "text": [
      "Status code 200\n"
     ]
    }
   ],
   "source": [
    "url = 'https://en.wikipedia.org/wiki/Aston_Villa_F.C.'\n",
    "r = requests.get(url)\n",
    "print('Status code', r.status_code)"
   ]
  },
  {
   "cell_type": "code",
   "execution_count": 6,
   "metadata": {},
   "outputs": [],
   "source": [
    "soup = BeautifulSoup(r.text, 'html.parser')"
   ]
  },
  {
   "cell_type": "code",
   "execution_count": 70,
   "metadata": {},
   "outputs": [
    {
     "data": {
      "text/plain": [
       "['Calum Chambers',\n",
       " 'Ashley Young',\n",
       " 'Jhon Durán',\n",
       " 'Philippe Coutinho',\n",
       " 'Robin Olsen',\n",
       " 'Lucas Digne',\n",
       " 'Leon Bailey',\n",
       " 'Leander Dendoncker',\n",
       " 'Viljami Sinisalo',\n",
       " 'Jacob Ramsey',\n",
       " 'Boubacar Kamara',\n",
       " 'Emiliano Martínez',\n",
       " 'Matty Cash',\n",
       " 'Diego Carlos',\n",
       " 'Ezri Konsa',\n",
       " 'Tyrone Mings',\n",
       " 'Douglas Luiz',\n",
       " 'John McGinn',\n",
       " 'Bertrand Traoré',\n",
       " 'Emiliano Buendía',\n",
       " 'Ollie Watkins',\n",
       " 'Jed Steer',\n",
       " 'Álex Moreno']"
      ]
     },
     "execution_count": 70,
     "metadata": {},
     "output_type": "execute_result"
    }
   ],
   "source": [
    "import requests\n",
    "from bs4 import BeautifulSoup\n",
    "\n",
    "url = 'https://en.wikipedia.org/wiki/Aston_Villa_F.C.'\n",
    "r = requests.get(url)\n",
    "# print('Status code', r.status_code)\n",
    "\n",
    "soup = BeautifulSoup(r.text, 'html.parser')\n",
    "\n",
    "tag = \"table\"\n",
    "attributes = {\"class\": \"wikitable\"}\n",
    "table_soup = soup.find(tag, attributes)\n",
    "table_data = []\n",
    "for row in table_soup.find_all(\"tr\"):\n",
    "    if row.sup is not None:\n",
    "        row.sup.decompose() # Remove the superscript references from the table if they are present\n",
    "    row = [ele.text.strip() for ele in row.find_all([\"th\", \"td\"])]\n",
    "    table_data.append(row)\n",
    "\n",
    "# Check out the table\n",
    "tag = \"table\"\n",
    "attributes = {\"class\":\"wikitable football-squad nogrid\"}\n",
    "table_soup = soup.findAll(tag, attributes)\n",
    "table_data2 = []\n",
    "for row in table_soup[1].find_all(\"tr\"):\n",
    "    if row.sup is not None:\n",
    "        row.sup.decompose() # Remove the superscript references from the table if they are present\n",
    "    row = [ele.text.strip() for ele in row.find_all([\"th\", \"td\"])]\n",
    "    table_data2.append(row)\n",
    "\n",
    "list1 = []\n",
    "list3 = []\n",
    "for a in table_data2:\n",
    "    b = a[3]\n",
    "    c = b.split()\n",
    "    list1.append(c)\n",
    "list2 = list1[1:]\n",
    "for a in list2:\n",
    "    d = a[0] + ' ' + a[1]\n",
    "    list3.append(d)\n",
    "list1 = []\n",
    "for a in table_data:\n",
    "    b = a[3]\n",
    "    c = b.split()\n",
    "    list1.append(c)\n",
    "list2 = list1[1:]\n",
    "for a in list2:\n",
    "    d = a[0] + ' ' + a[1]\n",
    "    list3.append(d)\n",
    "\n",
    "list3"
   ]
  },
  {
   "cell_type": "code",
   "execution_count": null,
   "metadata": {},
   "outputs": [],
   "source": []
  },
  {
   "cell_type": "code",
   "execution_count": null,
   "metadata": {},
   "outputs": [],
   "source": []
  },
  {
   "cell_type": "code",
   "execution_count": null,
   "metadata": {},
   "outputs": [],
   "source": []
  }
 ],
 "metadata": {
  "kernelspec": {
   "display_name": "Python 3.9.12 ('base')",
   "language": "python",
   "name": "python3"
  },
  "language_info": {
   "codemirror_mode": {
    "name": "ipython",
    "version": 3
   },
   "file_extension": ".py",
   "mimetype": "text/x-python",
   "name": "python",
   "nbconvert_exporter": "python",
   "pygments_lexer": "ipython3",
   "version": "3.9.12"
  },
  "orig_nbformat": 4,
  "vscode": {
   "interpreter": {
    "hash": "23465f6008edbc5250c629784f1bf1b48a1ae8b6988468065a03957a1825eeac"
   }
  }
 },
 "nbformat": 4,
 "nbformat_minor": 2
}
